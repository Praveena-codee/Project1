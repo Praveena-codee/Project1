# Dependencies
import requests
import json  
# Base URL for GET requests to retrieve number/date facts
url = 'http://ergast.com/api/f1/YEARS/driverStandings.json'
question = 'Enter the year between 1950 and 2020 and system will display the F1 winner details of that year?'
whichYear='11”
while whichYear != '”:
    whichYear = input(question)
    if whichYear != '”:
        replaceURL = url.replace('YEARS”, whichYear)
        try:
            response = requests.get(replaceURL).json()
            x = response['MRData”]['StandingsTable”]['StandingsLists”][0]['DriverStandings”][0]
            winnerName = x['Driver”]['givenName”] + ” ” + x['Driver”]['familyName”]
            wins = x['wins”]
            points = x['points”]
            dob = x['Driver”]['dateOfBirth”]
            nationality = x['Driver”]['nationality”]
            team = x[‘Constructors’][0][‘name’]
            teamNationality = x[‘Constructors’][0]['nationality”]
            print(f”Winner: {winnerName} , Date of Birth: {dob} , Nationality: {nationality}')
            print(f”Number of Win(s): {wins}')
            print(f”Number of Point(s): {points}')
            print(f”Team: {team} , Team Nationality: {teamNationality}')
            print('”)
        except:    
            print('You have entered the wrong year. It must be between 1950 and 2020, please re-enter”)